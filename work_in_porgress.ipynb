{
 "cells": [
  {
   "cell_type": "markdown",
   "metadata": {},
   "source": [
    "# Local dev setup\n"
   ]
  },
  {
   "cell_type": "markdown",
   "metadata": {},
   "source": [
    "## Prereqs\n",
    "- hyper v\n",
    "- terminal\n",
    "- wsl \n",
    "- ubuntu"
   ]
  },
  {
   "cell_type": "markdown",
   "metadata": {},
   "source": [
    "### Make sure your laptop has hyper-v enabled\n",
    "[This is how on windows 10](https://techcommunity.microsoft.com/t5/itops-talk-blog/step-by-step-enabling-hyper-v-for-use-on-windows-10/ba-p/267945#:~:text=Enable%20Hyper%20V%201%20Ensure%20that%20hardware%20virtualization,the%20taskbar%2C%20type%20Hyper-V%20Manager%20and...%20See%20More.)\n",
    "\n",
    "! `This requires that you have admin privileges`\n",
    "\n",
    "![Open control panel](./img/windows-feat-1.png)\n",
    "![Open control panel](./img/windows-feat-2.png)\n",
    "![Open control panel](./img/windows-feat-3.png)\n"
   ]
  },
  {
   "cell_type": "markdown",
   "metadata": {},
   "source": [
    "### Install from microsoft store\n",
    "\n",
    "- Install terminal\n",
    "\n",
    "![Terminal](./img/windows-terminal.png)\n",
    "\n",
    "\n",
    "- Install wsl\n",
    "\n",
    "![wsl](./img/wsl.png)\n",
    "\n",
    "\n",
    "- Install ubuntu\n",
    "\n",
    "![ubuntu](./img/ubuntu.png)\n",
    "\n",
    "`The latest LTS at the time of this writing is 22.04.03 - jammy`"
   ]
  },
  {
   "cell_type": "markdown",
   "metadata": {},
   "source": [
    "## Installing ubuntu basics"
   ]
  },
  {
   "cell_type": "markdown",
   "metadata": {},
   "source": [
   "## Setup\n"
   "To get quickly up and running run these commands on a fresh install\n"
   "
    ```shell
    curl -o setup.sh https://raw.githubusercontent.com/fktj/dotfiles/main/setup.sh
    ```"

   "```shell
   chmod u+x setup.sh
   ```"

   "```shell
    sudo ./setup.sh
   ```"
   ]
  },
  {
   "cell_type": "markdown",
   "metadata": {},
   "source": [
    "### install Unzip"
   ]
  },
  {
   "cell_type": "code",
   "execution_count": null,
   "metadata": {
    "vscode": {
     "languageId": "shellscript"
    }
   },
   "outputs": [],
   "source": [
    "sudo apt install unzip\n",
    "unzip --version"
   ]
  },
  {
   "cell_type": "markdown",
   "metadata": {},
   "source": [
    "### Install [zsh](https://phoenixnap.com/kb/install-zsh-ubuntu#:~:text=Follow%20the%20steps%20below%20to%20install%20and%20use,zsh%20-y%20...%203%20Step%203%3A%20Check%20Installation) and OMZ"
   ]
  },
  {
   "cell_type": "code",
   "execution_count": null,
   "metadata": {
    "vscode": {
     "languageId": "shellscript"
    }
   },
   "outputs": [],
   "source": [
    "sudo apt install zsh -y\n",
    "zsh --version\n",
    "zsh\n",
    "echo $SHELL\n",
    "# Output: /bin/bash\n",
    "chsh -s /bin/bash tj\n",
    "\n",
    "# ----------Oh My Zsh-------------- #\n",
    "sh -c \"$(wget https://raw.github.com/ohmyzsh/ohmyzsh/master/tools/install.sh -O -)\""
   ]
  },
  {
   "cell_type": "markdown",
   "metadata": {},
   "source": [
    "### install [Azure cli](https://www.linuxtechi.com/how-to-install-azure-cli-on-ubuntu/?utm_content=cmp-true)\n",
    "\n",
    "Insert the following commands in this order"
   ]
  },
  {
   "cell_type": "code",
   "execution_count": null,
   "metadata": {
    "vscode": {
     "languageId": "shellscript"
    }
   },
   "outputs": [],
   "source": [
    "sudo apt install ca-certificates curl apt-transport-https lsb-release gnupg -y\n",
    "curl -sL https://packages.microsoft.com/keys/microsoft.asc | gpg --dearmor | sudo tee /etc/apt/trusted.gpg.d/microsoft.gpg > /dev/null\n",
    "AZ_REPO=$(lsb_release -cs)\n",
    "echo \"deb [arch=`dpkg --print-architecture` signed-by=/etc/apt/trusted.gpg.d/microsoft.gpg] https://packages.microsoft.com/repos/azure-cli/ $AZ_REPO main\" | sudo tee /etc/apt/sources.list.d/azure-cli.list\n",
    "sudo apt update\n",
    "\n",
    "sudo apt install azure-cli -y\n",
    "az --version\n",
    "\n",
    "# az login"
   ]
  },
  {
   "cell_type": "markdown",
   "metadata": {},
   "source": [
    "### Install github cli"
   ]
  },
  {
   "cell_type": "code",
   "execution_count": null,
   "metadata": {
    "vscode": {
     "languageId": "shellscript"
    }
   },
   "outputs": [],
   "source": [
    "sudo apt install gh -y"
   ]
  },
  {
   "cell_type": "markdown",
   "metadata": {},
   "source": [
    "### install Databircks cli"
   ]
  },
  {
   "cell_type": "code",
   "execution_count": null,
   "metadata": {
    "vscode": {
     "languageId": "shellscript"
    }
   },
   "outputs": [],
   "source": [
    "curl -fsSL https://raw.githubusercontent.com/databricks/setup-cli/main/install.sh | sudo sh\n",
    "databricks --version"
   ]
  },
  {
   "cell_type": "markdown",
   "metadata": {},
   "source": [
    "### install [git credential manager](https://github.com/git-ecosystem/git-credential-manager/blob/release/docs/install.md#debian-package)"
   ]
  },
  {
   "cell_type": "code",
   "execution_count": null,
   "metadata": {
    "vscode": {
     "languageId": "shellscript"
    }
   },
   "outputs": [],
   "source": [
    "sudo dpkg --print-architecture\n",
    "wget \"https://github.com/git-ecosystem/git-credential-manager/releases/download/v2.4.1/gcm-linux_amd64.2.4.1.deb\" -O /tmp/gcmcore.deb\n",
    "sudo dpkg -i /tmp/gcmcore.deb\n",
    "#git-credential-manager configure\n"
   ]
  },
  {
   "cell_type": "markdown",
   "metadata": {},
   "source": [
    "### Install omz plugins"
   ]
  },
  {
   "cell_type": "code",
   "execution_count": null,
   "metadata": {
    "vscode": {
     "languageId": "shellscript"
    }
   },
   "outputs": [],
   "source": [
    "sudo apt install fzf -y"
   ]
  },
  {
   "cell_type": "markdown",
   "metadata": {},
   "source": [
    "## Setup git and github\n",
    "- Setup github gpg key\n",
    "- Setup github sshkey\n",
    "- Set git global config"
   ]
  },
  {
   "cell_type": "markdown",
   "metadata": {},
   "source": [
    "### Setup github [gpg key](https://docs.github.com/en/authentication/managing-commit-signature-verification/generating-a-new-gpg-key?platform=linux)"
   ]
  },
  {
   "cell_type": "code",
   "execution_count": null,
   "metadata": {},
   "outputs": [],
   "source": [
    "# gpg --version\n",
    "# gpg --full-generate-key\n",
    "# gpg --list-secret-keys --keyid-format=long\n",
    "# gpg --armor --export <key-id>\n",
    "\n",
    "\" When you have set up the GPG key add it to your GitHub account.\"\n",
    "\"Then you can pull the repository using \n",
    "# gh repo clone <user>/<repo>"
   ]
  },
  {
   "cell_type": "markdown",
   "metadata": {},
   "source": [
    "### Set up github [sshkey](https://docs.github.com/en/authentication/connecting-to-github-with-ssh/generating-a-new-ssh-key-and-adding-it-to-the-ssh-agent)"
   ]
  },
  {
   "cell_type": "code",
   "execution_count": null,
   "metadata": {},
   "outputs": [],
   "source": [
    "# ssh-keygen -t ed25519 -C \"your_email@example.com\"\n",
    "\n",
    "# eval \"$(ssh-agent -s)\" \n",
    "# gh ssh-key add ~/.ssh/id_rsa.pub --title signing\n",
    "# gh auth login\n",
    "\" create a ssh key on your github account (repo-based)\""
   ]
  },
  {
   "cell_type": "markdown",
   "metadata": {},
   "source": [
    "### Set git global config"
   ]
  },
  {
   "cell_type": "code",
   "execution_count": null,
   "metadata": {},
   "outputs": [],
   "source": [
    "# git config --global user.email \"you@example.com\"\n",
    "# git config --global user.name \"Your Name"
   ]
  },
  {
   "cell_type": "markdown",
   "metadata": {},
   "source": [
    "## Install python spesifics\n",
    "- pip or pipx\n",
    "- poetry"
   ]
  },
  {
   "cell_type": "markdown",
   "metadata": {},
   "source": [
    "### install pip or pipx\n"
   ]
  },
  {
   "cell_type": "code",
   "execution_count": null,
   "metadata": {},
   "outputs": [],
   "source": [
    "# sudo apt-get install python3-pip -y\n",
    "# pip --version\n",
    "\n",
    "# sudo apt install pipx -y\n",
    "# pipx --version\n",
    "# pipx ensurepath\n",
    "\"You will need to open a new terminal or re-login for the PATH changes to take effect.\""
   ]
  },
  {
   "cell_type": "markdown",
   "metadata": {},
   "source": [
    "Chose 2 and it will be setup quickly\n",
    "It will create a .zshrc file and a .zshrc.pre-om-my-zsh file in your home directory \n",
    "If not already there, navigate by using `cd ~`"
   ]
  },
  {
   "cell_type": "markdown",
   "metadata": {},
   "source": [
    "### Install [poetry](https://python-poetry.org/docs/#installation)"
   ]
  },
  {
   "cell_type": "code",
   "execution_count": null,
   "metadata": {},
   "outputs": [],
   "source": [
    "# pipx install poetry\n",
    "# pipx upgrade poetry\n",
    "# pipx ensurepath\n",
    "# poetry completions zsh >> ~/.zsh_completion\n",
    "# poetry --version\n",
    "\n",
    "### for tab completion add ###\n",
    "# mkdir $ZSH_CUSTOM/plugins/poetry\n",
    "# poetry completions zsh > $ZSH_CUSTOM/plugins/poetry/_poetry\n",
    "\"Then add poetry to the list of plugins in .zshrc\""
   ]
  },
  {
   "cell_type": "markdown",
   "metadata": {},
   "source": [
    "Once poetry is installed use `which poetry`\n",
    "\n",
    "The output should be sometinh like: /home/tj/.local/bin/poetry\n",
    "\n",
    "type in `vi .zshrc` and add the path like this: `export PATH=\"/home/tj/.local/bin/poetry:$PATH\"`\n"
   ]
  },
  {
   "cell_type": "code",
   "execution_count": null,
   "metadata": {},
   "outputs": [],
   "source": [
    "# For reference this is the top of my .zshrc, and we can see that there is 3 exports there\n",
    "\"\"\"\n",
    "# If you come from bash you might have to change your $PATH.\n",
    "export PATH=\"$HOME/bin:/usr/local/bin:$PATH\"\n",
    "# Poetry path\n",
    "export PATH=\"/home/tj/.local/bin/poetry:$PATH\"\n",
    "# Path to your oh-my-zsh installation.\n",
    "export ZSH=\"$HOME/.oh-my-zsh\"\n",
    "\"\"\""
   ]
  },
  {
   "cell_type": "markdown",
   "metadata": {},
   "source": [
    "Now that you have your version, you can go into the project directory\n",
    "\n",
    "To find what python you are using you can run this command:\n",
    "`which python3`\n",
    "\n",
    "Copy this path (mine is /usr/bin/python3)\n",
    "\n",
    "Run this command to activate the virtual environment\n",
    "\n",
    "`poetry env use /usr/bin/python3`\n",
    "\n",
    "Output\n",
    "\n",
    "**Creating virtualenv fkadb-GAMMsPWM-py3.10 in /home/tj/.cache/pypoetry/virtualenvs**\n",
    "\n",
    "**Using virtualenv: /home/tj/.cache/pypoetry/virtualenvs/fkadb-GAMMsPWM-py3.10**\n",
    "\n",
    "\n",
    "\n",
    "Verify that the environment is active using \n",
    "\n",
    "`poetry env list`\n",
    "\n",
    "**fkadb-GAMMsPWM-py3.10 (Activated)**\n",
    "\n",
    "\n",
    "\n",
    "If you use `poetry show` you will see the dependencies. Most of these will be in red if this is first time. \n",
    "\n",
    "To install the dependencies simply type `poetry update`\n",
    "\n",
    "\n",
    "Lastly you have to add you environment variable to the .bashrc (or .zshrc if you use this)\n",
    "\n"
   ]
  },
  {
   "cell_type": "code",
   "execution_count": null,
   "metadata": {},
   "outputs": [],
   "source": [
    "#  for reference this is the paths i added to the .zshrc\n",
    "\"\"\"\n",
    "export PATH=\"/home/tj/.cache/pypoetry/virtualenvs/fka-databricks-GAMMsPWM-py3.10/bin/python:$PATH\"\n",
    "export PYTHONPATH=\"/home/tj/.cache/pypoetry/virtualenvs/fka-databricks-GAMMsPWM-py3.10/lib/python3.10/site-packages:$PYTHONPATH\"\n",
    "\"\"\""
   ]
  },
  {
   "cell_type": "markdown",
   "metadata": {},
   "source": [
    "## Configureing VS CODE\n"
   ]
  },
  {
   "cell_type": "markdown",
   "metadata": {},
   "source": [
    "\n",
    "As vs code is run through WSL this also needs configuration. \n",
    "\n",
    "If you run `code . ` from the project directory, you will likely experience issues. \n",
    "\n",
    "If you have your own vs code profile already then you can apply this. \n",
    "\n",
    "In addition you will need to have a server config as well. \n",
    "\n",
    "In your home directory there should be a folder called .vscode-server\n",
    "The configurations, extentions, profiles and so will be located here. \n",
    "\n",
    "I recommend using extentions like python, python debugger, python environment manager, pylance in addition to remote\n",
    "\n",
    "Remember to also have wsl or remotes installed in your vs code. "
   ]
  },
  {
   "cell_type": "markdown",
   "metadata": {},
   "source": []
  },
  {
   "cell_type": "markdown",
   "metadata": {},
   "source": [
    "You probably also have to set up your interpreter in vs code. The trick here is to tell it to use the poetry environment path. \n",
    "For me this was `cache/pypoetry/virtualenvs/fka-databricks-GAMMsPWM-py3.10/bin/python`\n",
    "\n"
   ]
  }
 ],
 "metadata": {
  "kernelspec": {
   "display_name": "Python 3",
   "language": "python",
   "name": "python3"
  },
  "language_info": {
   "name": "python",
   "version": "3.10.11"
  }
 },
 "nbformat": 4,
 "nbformat_minor": 2
}
