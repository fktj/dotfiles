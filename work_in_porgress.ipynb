{
 "cells": [
  {
   "cell_type": "markdown",
   "metadata": {},
   "source": [
    "# Local dev setup\n"
   ]
  },
  {
   "cell_type": "markdown",
   "metadata": {},
   "source": [
    "## Prereqs\n",
    "- hyper v\n",
    "- terminal\n",
    "- wsl \n",
    "- ubuntu"
   ]
  },
  {
   "cell_type": "markdown",
   "metadata": {},
   "source": [
    "### Make sure your laptop has hyper-v enabled\n",
    "[This is how on windows 10](https://techcommunity.microsoft.com/t5/itops-talk-blog/step-by-step-enabling-hyper-v-for-use-on-windows-10/ba-p/267945#:~:text=Enable%20Hyper%20V%201%20Ensure%20that%20hardware%20virtualization,the%20taskbar%2C%20type%20Hyper-V%20Manager%20and...%20See%20More.)\n",
    "\n",
    "! `This requires that you have admin privileges`\n",
    "\n",
    "![Open control panel](./img/windows-feat-1.png)\n",
    "![Open control panel](./img/windows-feat-2.png)\n",
    "![Open control panel](./img/windows-feat-3.png)\n"
   ]
  },
  {
   "cell_type": "markdown",
   "metadata": {},
   "source": [
    "### Install from microsoft store\n",
    "\n",
    "- Install terminal\n",
    "\n",
    "![Terminal](./img/windows-terminal.png)\n",
    "\n",
    "\n",
    "- Install wsl\n",
    "\n",
    "![wsl](./img/wsl.png)\n",
    "\n",
    "\n",
    "- Install ubuntu\n",
    "\n",
    "![ubuntu](./img/ubuntu.png)\n",
    "\n",
    "`The latest LTS at the time of this writing is 22.04.03 - jammy`"
   ]
  },
  {
   "cell_type": "markdown",
   "metadata": {},
   "source": [
    "## Installing ubuntu basics"
   ]
  },
  {
   "cell_type": "markdown",
   "metadata": {},
   "source": [
   "## Setup\n",
   "\n",
   "To get quickly up and running run these commands on a fresh install\n",
   "\n",
   "curl -o setup.sh https://raw.githubusercontent.com/fktj/dotfiles/main/setup.sh\n",
   "\n",
   "chmod u+x setup.sh\n",
   "\n",
   "sudo ./setup.sh\n"
   ]
  },
  {
  "cell_type": "markdown",
  "metadata": {},
  "source": [
  "## Install\n",
  "\n",
  "To get quickly up and running run these commands on a fresh install\n",
  "\n",
  "curl -o install.sh https://raw.githubusercontent.com/fktj/dotfiles/main/install.sh\n",
  "\n",
  "chmod u+x install.sh\n",
  "\n",
  "./install.sh\n"
   ]
  },
  {
   "cell_type": "markdown",
   "metadata": {},
   "source": [
    "## Virtual environment`\n",
    "Once poetry is installed use `which poetry`\n",
    "\n",
    "The output should be sometinh like: /home/tj/.local/bin/poetry\n",
    "\n",
    "type in `vi .zshrc` and add the path like this: `export PATH=\"/home/tj/.local/bin/poetry:$PATH\"`\n"
   ]
  },
  {
   "cell_type": "code",
   "execution_count": null,
   "metadata": {},
   "outputs": [],
   "source": [
    "# For reference this is the top of my .zshrc, and we can see that there is 3 exports there\n",
    "\"\"\"\n",
    "# If you come from bash you might have to change your $PATH.\n",
    "export PATH=\"$HOME/bin:/usr/local/bin:$PATH\"\n",
    "# Poetry path\n",
    "export PATH=\"/home/tj/.local/bin/poetry:$PATH\"\n",
    "# Path to your oh-my-zsh installation.\n",
    "export ZSH=\"$HOME/.oh-my-zsh\"\n",
    "\"\"\""
   ]
  },
  {
   "cell_type": "markdown",
   "metadata": {},
   "source": [
    "Now that you have your version, you can go into the project directory\n",
    "\n",
    "To find what python you are using you can run this command:\n",
    "`which python3`\n",
    "\n",
    "Copy this path (mine is /usr/bin/python3)\n",
    "\n",
    "Run this command to activate the virtual environment\n",
    "\n",
    "`poetry env use /usr/bin/python3`\n",
    "\n",
    "Output\n",
    "\n",
    "**Creating virtualenv fkadb-GAMMsPWM-py3.10 in /home/tj/.cache/pypoetry/virtualenvs**\n",
    "\n",
    "**Using virtualenv: /home/tj/.cache/pypoetry/virtualenvs/fkadb-GAMMsPWM-py3.10**\n",
    "\n",
    "\n",
    "\n",
    "Verify that the environment is active using \n",
    "\n",
    "`poetry env list`\n",
    "\n",
    "**fkadb-GAMMsPWM-py3.10 (Activated)**\n",
    "\n",
    "\n",
    "\n",
    "If you use `poetry show` you will see the dependencies. Most of these will be in red if this is first time. \n",
    "\n",
    "To install the dependencies simply type `poetry update`\n",
    "\n",
    "\n",
    "Lastly you have to add you environment variable to the .bashrc (or .zshrc if you use this)\n",
    "\n"
   ]
  },
  {
   "cell_type": "code",
   "execution_count": null,
   "metadata": {},
   "outputs": [],
   "source": [
    "#  for reference this is the paths i added to the .zshrc\n",
    "\"\"\"\n",
    "export PATH=\"/home/tj/.cache/pypoetry/virtualenvs/fka-databricks-GAMMsPWM-py3.10/bin/python:$PATH\"\n",
    "export PYTHONPATH=\"/home/tj/.cache/pypoetry/virtualenvs/fka-databricks-GAMMsPWM-py3.10/lib/python3.10/site-packages:$PYTHONPATH\"\n",
    "\"\"\""
   ]
  },
  {
   "cell_type": "markdown",
   "metadata": {},
   "source": [
    "## Configureing VS CODE\n"
   ]
  },
  {
   "cell_type": "markdown",
   "metadata": {},
   "source": [
    "\n",
    "As vs code is run through WSL this also needs configuration. \n",
    "\n",
    "If you run `code . ` from the project directory, you will likely experience issues. \n",
    "\n",
    "If you have your own vs code profile already then you can apply this. \n",
    "\n",
    "In addition you will need to have a server config as well. \n",
    "\n",
    "In your home directory there should be a folder called .vscode-server\n",
    "The configurations, extentions, profiles and so will be located here. \n",
    "\n",
    "I recommend using extentions like python, python debugger, python environment manager, pylance in addition to remote\n",
    "\n",
    "Remember to also have wsl or remotes installed in your vs code. "
   ]
  },
  {
   "cell_type": "markdown",
   "metadata": {},
   "source": []
  },
  {
   "cell_type": "markdown",
   "metadata": {},
   "source": [
    "You probably also have to set up your interpreter in vs code. The trick here is to tell it to use the poetry environment path. \n",
    "For me this was `cache/pypoetry/virtualenvs/fka-databricks-GAMMsPWM-py3.10/bin/python`\n",
    "\n"
   ]
  }
 ],
 "metadata": {
  "kernelspec": {
   "display_name": "Python 3",
   "language": "python",
   "name": "python3"
  },
  "language_info": {
   "name": "python",
   "version": "3.10.11"
  }
 },
 "nbformat": 4,
 "nbformat_minor": 2
}
