{
 "cells": [
  {
   "cell_type": "markdown",
   "metadata": {},
   "source": [
    "# Local dev setup\n"
   ]
  },
  {
   "cell_type": "markdown",
   "metadata": {},
   "source": [
    "## Prereqs\n",
    "- hyper v\n",
    "- terminal\n",
    "- wsl versjon 1 \n",
    "- ubuntu"
   ]
  },
  {
   "cell_type": "markdown",
   "metadata": {},
   "source": [
    "### Make sure your laptop has hyper-v enabled\n",
    "[This is how on windows 10](https://techcommunity.microsoft.com/t5/itops-talk-blog/step-by-step-enabling-hyper-v-for-use-on-windows-10/ba-p/267945#:~:text=Enable%20Hyper%20V%201%20Ensure%20that%20hardware%20virtualization,the%20taskbar%2C%20type%20Hyper-V%20Manager%20and...%20See%20More.)\n",
    "\n",
    "! `This requires that you have admin privileges`\n",
    "\n",
    "![Open control panel](./img/windows-feat-1.png)\n",
    "![Open control panel](./img/windows-feat-2.png)\n",
    "![Open control panel](./img/windows-feat-3.png)\n"
   ]
  },
  {
   "cell_type": "markdown",
   "metadata": {},
   "source": [
    "### Install from microsoft store\n",
    "\n",
    "- Install terminal\n",
    "\n",
    "![Terminal](./img/windows-terminal.png)\n",
    "\n",
    "\n",
    "- Install wsl\n",
    "\n",
    "![wsl](./img/wsl.png)\n",
    "\n",
    "\n",
    "- Install ubuntu\n",
    "\n",
    "![ubuntu](./img/ubuntu.png)\n",
    "\n",
    "`The latest LTS at the time of this writing is 22.04.03 - jammy`"
   ]
  },
  {
   "cell_type": "markdown",
   "metadata": {},
   "source": [
    "You probably also have to set up your interpreter in vs code. The trick here is to tell it to use the poetry environment path. \n",
    "For me this was `cache/pypoetry/virtualenvs/fka-databricks-GAMMsPWM-py3.10/bin/python`\n",
    "\n"
   ]
  }
 ],
 "metadata": {
  "kernelspec": {
   "display_name": "Python 3",
   "language": "python",
   "name": "python3"
  },
  "language_info": {
   "name": "python",
   "version": "3.10.11"
  }
 },
 "nbformat": 4,
 "nbformat_minor": 2
}
